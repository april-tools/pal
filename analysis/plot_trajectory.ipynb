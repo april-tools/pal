{
 "cells": [
  {
   "cell_type": "code",
   "execution_count": 17,
   "id": "14072201",
   "metadata": {},
   "outputs": [],
   "source": [
    "import package_root\n",
    "import os\n",
    "\n",
    "data_path = os.path.join(package_root._find_root(), 'data')"
   ]
  },
  {
   "cell_type": "markdown",
   "id": "133a935c",
   "metadata": {},
   "source": [
    "### load data"
   ]
  },
  {
   "cell_type": "code",
   "execution_count": 8,
   "id": "c0d255ae",
   "metadata": {},
   "outputs": [
    {
     "name": "stderr",
     "output_type": "stream",
     "text": [
      "WARNING:root:Latte is not installed. Faking path in order to load wmipa.\n",
      "WARNING:root:Latte is not installed. Faking path in order to load wmipa.\n"
     ]
    }
   ],
   "source": [
    "import pal.problem.sdd as csdd\n",
    "import pal.distribution.spline_distribution as spline\n",
    "from pal.wmi.compute_integral import integrate_distribution"
   ]
  },
  {
   "cell_type": "code",
   "execution_count": 18,
   "id": "9862f020",
   "metadata": {},
   "outputs": [],
   "source": [
    "sdd = csdd.SDDSingleImageTrajectory(\n",
    "    img_id=12,\n",
    "    path=os.path.join(data_path, 'sdd'),\n",
    ")"
   ]
  },
  {
   "cell_type": "markdown",
   "id": "e6c38ed6",
   "metadata": {},
   "source": [
    "## load model"
   ]
  },
  {
   "cell_type": "code",
   "execution_count": 21,
   "id": "328fab24",
   "metadata": {},
   "outputs": [],
   "source": [
    "import torch\n",
    "\n",
    "device = torch.device(\"cuda\" if torch.cuda.is_available() else \"cpu\")\n",
    "\n",
    "model_state = torch.load(os.path.join(data_path, 'sdd_spline_example.pth'),map_location=device)"
   ]
  },
  {
   "cell_type": "code",
   "execution_count": 23,
   "id": "f4e761a6",
   "metadata": {},
   "outputs": [
    {
     "name": "stdout",
     "output_type": "stream",
     "text": [
      "Warning: Chebyshev center is positive but super tiny! 3.696610855183925e-16\n",
      "Warning: Chebyshev center is positive but super tiny! 2.5281891023448016e-16\n",
      "Time to integrate distribution: 17.16 seconds\n"
     ]
    },
    {
     "data": {
      "text/plain": [
       "<All keys matched successfully>"
      ]
     },
     "execution_count": 23,
     "metadata": {},
     "output_type": "execute_result"
    }
   ],
   "source": [
    "from pal.training.train_mlp_sdd import get_spline_model\n",
    "\n",
    "spline_model = get_spline_model(\n",
    "    sdd=sdd,\n",
    "    num_knots=14,\n",
    "    num_mixtures=8,\n",
    "    net_size=\"large\",\n",
    "    init_last_layer_positive=True,\n",
    "    device=device,\n",
    ")\n",
    "\n",
    "spline_model.load_state_dict(model_state)"
   ]
  },
  {
   "cell_type": "markdown",
   "id": "73e9b3dd",
   "metadata": {},
   "source": [
    "# plot prediction"
   ]
  },
  {
   "cell_type": "code",
   "execution_count": 25,
   "id": "3c428d1f",
   "metadata": {},
   "outputs": [],
   "source": [
    "import analysis.plot_helper as helper"
   ]
  },
  {
   "cell_type": "code",
   "execution_count": null,
   "id": "cc439565",
   "metadata": {},
   "outputs": [],
   "source": []
  }
 ],
 "metadata": {
  "kernelspec": {
   "display_name": "pal",
   "language": "python",
   "name": "python3"
  },
  "language_info": {
   "codemirror_mode": {
    "name": "ipython",
    "version": 3
   },
   "file_extension": ".py",
   "mimetype": "text/x-python",
   "name": "python",
   "nbconvert_exporter": "python",
   "pygments_lexer": "ipython3",
   "version": "3.11.11"
  }
 },
 "nbformat": 4,
 "nbformat_minor": 5
}
